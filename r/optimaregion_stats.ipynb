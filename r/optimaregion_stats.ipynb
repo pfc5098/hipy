{
 "cells": [
  {
   "cell_type": "code",
   "execution_count": 3,
   "id": "1e535720-0648-4d3f-8c63-01456e82acb7",
   "metadata": {},
   "outputs": [
    {
     "name": "stderr",
     "output_type": "stream",
     "text": [
      "Updating HTML index of packages in '.Library'\n",
      "\n",
      "Making 'packages.html' ...\n",
      " done\n",
      "\n"
     ]
    }
   ],
   "source": [
    "install.packages(\"cranlogs\")"
   ]
  },
  {
   "cell_type": "code",
   "execution_count": 4,
   "id": "32bb1dbe-100c-4e6f-89fd-ccf0d758afe1",
   "metadata": {},
   "outputs": [],
   "source": [
    "library(cranlogs)"
   ]
  },
  {
   "cell_type": "code",
   "execution_count": 8,
   "id": "df5e0368-4853-4e7d-bf95-d2bdea66bf52",
   "metadata": {},
   "outputs": [],
   "source": [
    "df = cran_downloads(\"OptimaRegion\", from = \"2015-01-01\", to = Sys.Date())"
   ]
  },
  {
   "cell_type": "code",
   "execution_count": 10,
   "id": "dda04f3b-55b9-4b99-bb6e-3a5167a7caa9",
   "metadata": {},
   "outputs": [
    {
     "data": {
      "text/html": [
       "25138"
      ],
      "text/latex": [
       "25138"
      ],
      "text/markdown": [
       "25138"
      ],
      "text/plain": [
       "[1] 25138"
      ]
     },
     "metadata": {},
     "output_type": "display_data"
    }
   ],
   "source": [
    "sum(df[[\"count\"]])"
   ]
  },
  {
   "cell_type": "code",
   "execution_count": null,
   "id": "cd1ca281-473d-45d1-b607-5710ee01ccd0",
   "metadata": {},
   "outputs": [],
   "source": []
  }
 ],
 "metadata": {
  "kernelspec": {
   "display_name": "R",
   "language": "R",
   "name": "ir"
  },
  "language_info": {
   "codemirror_mode": "r",
   "file_extension": ".r",
   "mimetype": "text/x-r-source",
   "name": "R",
   "pygments_lexer": "r",
   "version": "4.2.2"
  }
 },
 "nbformat": 4,
 "nbformat_minor": 5
}
