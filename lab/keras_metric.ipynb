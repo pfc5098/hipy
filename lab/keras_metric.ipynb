{
 "cells": [
  {
   "cell_type": "code",
   "execution_count": 1,
   "metadata": {},
   "outputs": [],
   "source": [
    "import tensorflow as tf"
   ]
  },
  {
   "cell_type": "code",
   "execution_count": 11,
   "metadata": {},
   "outputs": [
    {
     "name": "stdout",
     "output_type": "stream",
     "text": [
      "tf.Tensor(0.5, shape=(), dtype=float32)\n"
     ]
    }
   ],
   "source": [
    "m = tf.keras.metrics.SparseCategoricalAccuracy()\n",
    "m.update_state([[2], [1]], [[0.1, 0.6, 0.3], \n",
    "                            [0.05, 0.95, 0]])\n",
    "print(m.result())"
   ]
  },
  {
   "cell_type": "code",
   "execution_count": 12,
   "metadata": {},
   "outputs": [
    {
     "name": "stdout",
     "output_type": "stream",
     "text": [
      "tf.Tensor(0.75, shape=(), dtype=float32)\n"
     ]
    }
   ],
   "source": [
    "m.update_state([[1], [1]], [[0.1, 0.6, 0.3], \n",
    "                            [0.05, 0.95, 0]])\n",
    "print(m.result())"
   ]
  },
  {
   "cell_type": "code",
   "execution_count": 13,
   "metadata": {},
   "outputs": [
    {
     "name": "stdout",
     "output_type": "stream",
     "text": [
      "tf.Tensor(1.0, shape=(), dtype=float32)\n"
     ]
    }
   ],
   "source": [
    "m.reset_state()\n",
    "m.update_state([[1], [1]], [[0.1, 0.6, 0.3], \n",
    "                            [0.05, 0.95, 0]])\n",
    "print(m.result())                       "
   ]
  }
 ],
 "metadata": {
  "kernelspec": {
   "display_name": "myenv",
   "language": "python",
   "name": "python3"
  },
  "language_info": {
   "codemirror_mode": {
    "name": "ipython",
    "version": 3
   },
   "file_extension": ".py",
   "mimetype": "text/x-python",
   "name": "python",
   "nbconvert_exporter": "python",
   "pygments_lexer": "ipython3",
   "version": "3.9.15"
  },
  "orig_nbformat": 4,
  "vscode": {
   "interpreter": {
    "hash": "4ba1015441a492cae187930b9f34b46766cf5545edb5185c2196bb9a22f1f6db"
   }
  }
 },
 "nbformat": 4,
 "nbformat_minor": 2
}
